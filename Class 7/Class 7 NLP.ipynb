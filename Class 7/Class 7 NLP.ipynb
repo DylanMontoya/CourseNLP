{
 "cells": [
  {
   "cell_type": "code",
   "execution_count": 2,
   "metadata": {},
   "outputs": [],
   "source": [
    "from __future__ import absolute_import, division, print_function\n",
    "import codecs\n",
    "import glob\n",
    "import logging\n",
    "import multiprocessing\n",
    "import os\n",
    "import re\n",
    "import string\n",
    "import nltk\n",
    "import gensim.models.word2vec as w2v\n",
    "from sklearn.manifold import TSNE\n",
    "import numpy as np\n",
    "import matplotlib.pyplot as plt\n",
    "import pandas as pd\n",
    "import gensim\n",
    "from nltk.corpus import stopwords"
   ]
  },
  {
   "cell_type": "code",
   "execution_count": 3,
   "metadata": {},
   "outputs": [],
   "source": [
    "stopwords = set(stopwords.words('spanish'))"
   ]
  },
  {
   "cell_type": "code",
   "execution_count": 4,
   "metadata": {},
   "outputs": [],
   "source": [
    "hhgroups = pd.read_csv('rap.csv')\n",
    "hhgroups.head()\n",
    "letras = list(hhgroups['letra'])\n",
    "letra_limpio = []"
   ]
  },
  {
   "cell_type": "markdown",
   "metadata": {},
   "source": [
    "Elinando líneas vacías y procesamiento de las letras de las canciones"
   ]
  },
  {
   "cell_type": "code",
   "execution_count": 6,
   "metadata": {},
   "outputs": [
    {
     "name": "stdout",
     "output_type": "stream",
     "text": [
      "['nunca', 'pensé', 'desvíe', 'tracé', 'vía', 'merezco', 'muerte', 'vida', 'ayúdame', 'encontrar']\n",
      "18650\n"
     ]
    }
   ],
   "source": [
    "for i in range(len(letras)):\n",
    "    cancion_limpia = []\n",
    "    for linea in letras[i].split(\"\\n\"):\n",
    "        if (\"[\" not in linea and \"(\" not in linea and linea != \"\"):\n",
    "            # pasamos linea a minusculas y eliminamos la puntuación\n",
    "            linea = bytes(linea,'utf-8').decode('utf-8','ignore')\n",
    "            linea = \"\".join(c for c in linea if (c not in string.punctuation and c not in ['','¡','¿'])).lower()\n",
    "            linea = linea.split(\" \")\n",
    "            for palabra in list(linea):\n",
    "                if palabra in stopwords or palabra in string.punctuation:\n",
    "                    linea.remove(palabra)\n",
    "            cancion_limpia += linea\n",
    "    letra_limpio += [cancion_limpia]\n",
    "    \n",
    "print(letra_limpio[10][:10])\n",
    "print(len(letra_limpio))"
   ]
  },
  {
   "cell_type": "markdown",
   "metadata": {},
   "source": [
    "sg 1 cbow 0"
   ]
  },
  {
   "cell_type": "code",
   "execution_count": 9,
   "metadata": {},
   "outputs": [
    {
     "data": {
      "text/plain": [
       "[('mal', 0.7205325961112976),\n",
       " ('cien', 0.6055631637573242),\n",
       " ('sé', 0.5994840860366821),\n",
       " ('así', 0.5817930102348328),\n",
       " ('pues', 0.5713661909103394),\n",
       " ('sien', 0.5619829893112183),\n",
       " ('preocupes', 0.5579007267951965),\n",
       " ('si', 0.5506299734115601),\n",
       " ('edén', 0.5410284996032715),\n",
       " ('rehén', 0.5403343439102173)]"
      ]
     },
     "execution_count": 9,
     "metadata": {},
     "output_type": "execute_result"
    }
   ],
   "source": [
    "hhgroups2vec = w2v.Word2Vec(letra_limpio, sg = 1, seed = 1, workers = multiprocessing.cpu_count(), min_count = 50, window = 12)\n",
    "hhgroups2vec.wv.most_similar(\"familia\")\n",
    "hhgroups2vec.wv.most_similar(\"españa\")\n",
    "hhgroups2vec.wv.most_similar(\"1\")\n",
    "hhgroups2vec.wv.most_similar(\"arte\")\n",
    "hhgroups2vec.wv.most_similar(\"música\")\n",
    "hhgroups2vec.wv.most_similar(\"joder\")\n",
    "hhgroups2vec.wv.most_similar(\"bien\")"
   ]
  },
  {
   "cell_type": "code",
   "execution_count": 10,
   "metadata": {},
   "outputs": [],
   "source": [
    "def nearest_similarity_cosmul(start1,end1,end2):\n",
    "    similarities = hhgroups2vec.wv.most_similar_cosmul(\n",
    "        positive = [end2,start1],\n",
    "        negative = [end1]\n",
    "        )\n",
    "    start2 = similarities[0][0] ##predicción\n",
    "    print(\"{0} es a {1},  lo que {2} es a {3}\".format(start1, end1, start2, end2))"
   ]
  },
  {
   "cell_type": "code",
   "execution_count": 11,
   "metadata": {},
   "outputs": [
    {
     "name": "stdout",
     "output_type": "stream",
     "text": [
      "ser es a siendo,  lo que hacer es a haciendo\n",
      "amar es a amor,  lo que odiar es a odio\n",
      "rey es a reina,  lo que leo es a princesa\n",
      "europa es a españa,  lo que ruinas es a argentina\n"
     ]
    }
   ],
   "source": [
    "nearest_similarity_cosmul(\"ser\",\"siendo\",\"haciendo\")      \n",
    "nearest_similarity_cosmul(\"amar\",\"amor\",\"odio\") \n",
    "nearest_similarity_cosmul(\"rey\",\"reina\",\"princesa\") \n",
    "nearest_similarity_cosmul(\"europa\",\"españa\",\"argentina\") "
   ]
  },
  {
   "cell_type": "markdown",
   "metadata": {},
   "source": [
    "Descartar las palabras fuera de lugar"
   ]
  },
  {
   "cell_type": "code",
   "execution_count": 12,
   "metadata": {},
   "outputs": [
    {
     "data": {
      "text/plain": [
       "'envidia'"
      ]
     },
     "execution_count": 12,
     "metadata": {},
     "output_type": "execute_result"
    }
   ],
   "source": [
    "hhgroups2vec.wv.doesnt_match(\"felicidad amor alegría envidia\".split(\" \"))\n"
   ]
  },
  {
   "cell_type": "markdown",
   "metadata": {},
   "source": [
    "Visualización con t-sne\n",
    "\n",
    "Visualizando el modelo en 2D con T-SNE"
   ]
  },
  {
   "cell_type": "code",
   "execution_count": 18,
   "metadata": {},
   "outputs": [],
   "source": [
    "def tsne_plot(model):\n",
    "    labels = []\n",
    "    tokens = []\n",
    "\n",
    "    for word in model.wv.vocab:\n",
    "        tokens.append(model[word])\n",
    "        labels.append(word)\n",
    "    \n",
    "    tsne_model = TSNE(perplexity = 40, n_components = 2, init = 'pca', n_iter = 2500)\n",
    "    new_values = tsne_model.fit_transform(tokens)\n",
    "\n",
    "    x = []\n",
    "    y = []\n",
    "    for value in new_values:\n",
    "        x.append(value[0])\n",
    "        y.append(value[1])\n",
    "        \n",
    "    plt.figure(figsize = (64, 64)) \n",
    "    for i in range(len(x)):\n",
    "        plt.scatter(x[i], y[i])\n",
    "        plt.annotate(labels[i],\n",
    "                     xy = (x[i], y[i]),\n",
    "                     xytext = (5, 2),\n",
    "                     textcoords ='offset points',\n",
    "                     ha = 'right',\n",
    "                     va = 'bottom')\n",
    "    plt.show()"
   ]
  },
  {
   "cell_type": "code",
   "execution_count": 19,
   "metadata": {},
   "outputs": [
    {
     "ename": "AttributeError",
     "evalue": "The vocab attribute was removed from KeyedVector in Gensim 4.0.0.\nUse KeyedVector's .key_to_index dict, .index_to_key list, and methods .get_vecattr(key, attr) and .set_vecattr(key, attr, new_val) instead.\nSee https://github.com/RaRe-Technologies/gensim/wiki/Migrating-from-Gensim-3.x-to-4",
     "output_type": "error",
     "traceback": [
      "\u001b[1;31m---------------------------------------------------------------------------\u001b[0m",
      "\u001b[1;31mAttributeError\u001b[0m                            Traceback (most recent call last)",
      "\u001b[1;32m~\\AppData\\Local\\Temp/ipykernel_26408/3550839325.py\u001b[0m in \u001b[0;36m<module>\u001b[1;34m\u001b[0m\n\u001b[1;32m----> 1\u001b[1;33m \u001b[0mtsne_plot\u001b[0m\u001b[1;33m(\u001b[0m\u001b[0mhhgroups2vec\u001b[0m\u001b[1;33m)\u001b[0m\u001b[1;33m\u001b[0m\u001b[1;33m\u001b[0m\u001b[0m\n\u001b[0m",
      "\u001b[1;32m~\\AppData\\Local\\Temp/ipykernel_26408/224752353.py\u001b[0m in \u001b[0;36mtsne_plot\u001b[1;34m(model)\u001b[0m\n\u001b[0;32m      3\u001b[0m     \u001b[0mtokens\u001b[0m \u001b[1;33m=\u001b[0m \u001b[1;33m[\u001b[0m\u001b[1;33m]\u001b[0m\u001b[1;33m\u001b[0m\u001b[1;33m\u001b[0m\u001b[0m\n\u001b[0;32m      4\u001b[0m \u001b[1;33m\u001b[0m\u001b[0m\n\u001b[1;32m----> 5\u001b[1;33m     \u001b[1;32mfor\u001b[0m \u001b[0mword\u001b[0m \u001b[1;32min\u001b[0m \u001b[0mmodel\u001b[0m\u001b[1;33m.\u001b[0m\u001b[0mwv\u001b[0m\u001b[1;33m.\u001b[0m\u001b[0mvocab\u001b[0m\u001b[1;33m:\u001b[0m\u001b[1;33m\u001b[0m\u001b[1;33m\u001b[0m\u001b[0m\n\u001b[0m\u001b[0;32m      6\u001b[0m         \u001b[0mtokens\u001b[0m\u001b[1;33m.\u001b[0m\u001b[0mappend\u001b[0m\u001b[1;33m(\u001b[0m\u001b[0mmodel\u001b[0m\u001b[1;33m[\u001b[0m\u001b[0mword\u001b[0m\u001b[1;33m]\u001b[0m\u001b[1;33m)\u001b[0m\u001b[1;33m\u001b[0m\u001b[1;33m\u001b[0m\u001b[0m\n\u001b[0;32m      7\u001b[0m         \u001b[0mlabels\u001b[0m\u001b[1;33m.\u001b[0m\u001b[0mappend\u001b[0m\u001b[1;33m(\u001b[0m\u001b[0mword\u001b[0m\u001b[1;33m)\u001b[0m\u001b[1;33m\u001b[0m\u001b[1;33m\u001b[0m\u001b[0m\n",
      "\u001b[1;32mc:\\Users\\Acer\\anaconda3\\lib\\site-packages\\gensim\\models\\keyedvectors.py\u001b[0m in \u001b[0;36mvocab\u001b[1;34m(self)\u001b[0m\n\u001b[0;32m    733\u001b[0m     \u001b[1;33m@\u001b[0m\u001b[0mproperty\u001b[0m\u001b[1;33m\u001b[0m\u001b[1;33m\u001b[0m\u001b[0m\n\u001b[0;32m    734\u001b[0m     \u001b[1;32mdef\u001b[0m \u001b[0mvocab\u001b[0m\u001b[1;33m(\u001b[0m\u001b[0mself\u001b[0m\u001b[1;33m)\u001b[0m\u001b[1;33m:\u001b[0m\u001b[1;33m\u001b[0m\u001b[1;33m\u001b[0m\u001b[0m\n\u001b[1;32m--> 735\u001b[1;33m         raise AttributeError(\n\u001b[0m\u001b[0;32m    736\u001b[0m             \u001b[1;34m\"The vocab attribute was removed from KeyedVector in Gensim 4.0.0.\\n\"\u001b[0m\u001b[1;33m\u001b[0m\u001b[1;33m\u001b[0m\u001b[0m\n\u001b[0;32m    737\u001b[0m             \u001b[1;34m\"Use KeyedVector's .key_to_index dict, .index_to_key list, and methods \"\u001b[0m\u001b[1;33m\u001b[0m\u001b[1;33m\u001b[0m\u001b[0m\n",
      "\u001b[1;31mAttributeError\u001b[0m: The vocab attribute was removed from KeyedVector in Gensim 4.0.0.\nUse KeyedVector's .key_to_index dict, .index_to_key list, and methods .get_vecattr(key, attr) and .set_vecattr(key, attr, new_val) instead.\nSee https://github.com/RaRe-Technologies/gensim/wiki/Migrating-from-Gensim-3.x-to-4"
     ]
    }
   ],
   "source": [
    "tsne_plot(hhgroups2vec)"
   ]
  }
 ],
 "metadata": {
  "kernelspec": {
   "display_name": "Python 3.9.7 ('base')",
   "language": "python",
   "name": "python3"
  },
  "language_info": {
   "codemirror_mode": {
    "name": "ipython",
    "version": 3
   },
   "file_extension": ".py",
   "mimetype": "text/x-python",
   "name": "python",
   "nbconvert_exporter": "python",
   "pygments_lexer": "ipython3",
   "version": "3.9.7"
  },
  "orig_nbformat": 4,
  "vscode": {
   "interpreter": {
    "hash": "c28da407b5413b3940d87ecdae5ea8ce0c2929d84f560e9f5daaaa2573d53e68"
   }
  }
 },
 "nbformat": 4,
 "nbformat_minor": 2
}
